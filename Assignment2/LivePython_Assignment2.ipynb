{
 "cells": [
  {
   "cell_type": "markdown",
   "metadata": {},
   "source": [
    "Task 1:"
   ]
  },
  {
   "cell_type": "markdown",
   "metadata": {},
   "source": [
    "1.1 Write a Python Program to implement your own myreduce() function which works exactly like\n",
    "Python's built-in function reduce()"
   ]
  },
  {
   "cell_type": "code",
   "execution_count": 10,
   "metadata": {},
   "outputs": [
    {
     "name": "stdout",
     "output_type": "stream",
     "text": [
      "12\n",
      "12\n"
     ]
    }
   ],
   "source": [
    "from functools import reduce\n",
    "\n",
    "l=[12,23,34,456,67]\n",
    "result=[]\n",
    "def mod(x,y):\n",
    "  return x%y\n",
    "\n",
    "def myreduce(mod,l):\n",
    "  result=l[0]\n",
    "  for i in  l[1:]: \n",
    "    result=mod(result,i)\n",
    "  return result\n",
    "\n",
    "print(str(myreduce(mod,l))) #without reduce function\n",
    "print(str(reduce(mod,l)))   #with reduce function"
   ]
  },
  {
   "cell_type": "markdown",
   "metadata": {},
   "source": [
    "1.2 Write a Python program to implement your own myfilter() function which works exactly like\n",
    "Python's built-in function filter()\n"
   ]
  },
  {
   "cell_type": "code",
   "execution_count": 11,
   "metadata": {},
   "outputs": [
    {
     "name": "stdout",
     "output_type": "stream",
     "text": [
      "[13, 11, 23, 47, 53]\n",
      "[13, 11, 23, 47, 53]\n"
     ]
    }
   ],
   "source": [
    "result=[]\n",
    "\n",
    "\n",
    "l=[22,32,15,567,13,468,9004,11,23,47,53]\n",
    "def prime_check(num):\n",
    "  if num > 1:\n",
    "   for i in range(2,num):\n",
    "       if (num % i) == 0:\n",
    "           return False\n",
    "           break\n",
    "   else:\n",
    "       return True     \n",
    "  else:\n",
    "   return False\n",
    "\n",
    "\n",
    "\n",
    "def myfilter(prime_check,l):\n",
    "  for i in l:\n",
    "    if prime_check(i):\n",
    "      result.append(i)\n",
    "  return result\n",
    "\n",
    "print(str(myfilter(prime_check,l))) #without filter function\n",
    "print(list(filter(prime_check,l)))  #with filter function\n"
   ]
  },
  {
   "cell_type": "markdown",
   "metadata": {},
   "source": [
    "2. Implement List comprehensions to produce the following lists.\n",
    "Write List comprehensions to produce the following Lists\n",
    "['A', 'C', 'A', 'D', 'G', 'I', ’L’, ‘ D’]\n",
    "['x', 'xx', 'xxx', 'xxxx', 'y', 'yy', 'yyy', 'yyyy', 'z', 'zz', 'zzz', 'zzzz']\n",
    "['x', 'y', 'z', 'xx', 'yy', 'zz', 'xx', 'yy', 'zz', 'xxxx', 'yyyy', 'zzzz']\n",
    "[[2], [3], [4], [3], [4], [5], [4], [5], [6]]\n",
    "[[2, 3, 4, 5], [3, 4, 5, 6], [4, 5, 6, 7], [5, 6, 7, 8]]\n",
    "[(1, 1), (2, 1), (3, 1), (1, 2), (2, 2), (3, 2), (1, 3), (2, 3), (3, 3)]\n"
   ]
  },
  {
   "cell_type": "code",
   "execution_count": 12,
   "metadata": {},
   "outputs": [
    {
     "name": "stdout",
     "output_type": "stream",
     "text": [
      "['A', 'C', 'A', 'D', 'G', 'I', 'L', 'D']\n"
     ]
    }
   ],
   "source": [
    "word=\"ACADGILD\"\n",
    "char_list=[char for char in word]\n",
    "print(char_list)"
   ]
  },
  {
   "cell_type": "code",
   "execution_count": 14,
   "metadata": {},
   "outputs": [
    {
     "name": "stdout",
     "output_type": "stream",
     "text": [
      "['x', 'xx', 'xxx', 'xxxx', 'y', 'yy', 'yyy', 'yyyy', 'z', 'zz', 'zzz', 'zzzz']\n"
     ]
    }
   ],
   "source": [
    "word=\"xyz\"\n",
    "res=[i*num for i in word for num in range(1,5)]\n",
    "print(res)"
   ]
  },
  {
   "cell_type": "code",
   "execution_count": 16,
   "metadata": {},
   "outputs": [
    {
     "name": "stdout",
     "output_type": "stream",
     "text": [
      "['x', 'y', 'z', 'xx', 'yy', 'zz', 'xxx', 'yyy', 'zzz', 'xxxx', 'yyyy', 'zzzz']\n"
     ]
    }
   ],
   "source": [
    "word=\"xyz\"\n",
    "res=[i*num for num in range(1,5) for i in word ]\n",
    "print(res)"
   ]
  },
  {
   "cell_type": "code",
   "execution_count": 21,
   "metadata": {},
   "outputs": [
    {
     "name": "stdout",
     "output_type": "stream",
     "text": [
      "[[2], [3], [4], [3], [4], [5], [4], [5], [6]]\n"
     ]
    }
   ],
   "source": [
    "inputlist = [2,3,4]\n",
    "res=[[i+num]for i in inputlist for num in range(0,3)]\n",
    "print(res)"
   ]
  },
  {
   "cell_type": "code",
   "execution_count": 27,
   "metadata": {},
   "outputs": [
    {
     "name": "stdout",
     "output_type": "stream",
     "text": [
      "[[2, 3, 4, 5], [3, 4, 5, 6], [4, 5, 6, 7], [5, 6, 7, 8]]\n"
     ]
    }
   ],
   "source": [
    "inputlist=[2,3,4,5]\n",
    "res=[[i+num for i in inputlist] for num in range(0,4)]\n",
    "print(res)"
   ]
  },
  {
   "cell_type": "code",
   "execution_count": 35,
   "metadata": {
    "scrolled": true
   },
   "outputs": [
    {
     "name": "stdout",
     "output_type": "stream",
     "text": [
      "[(1, 1), (2, 1), (3, 1), (1, 2), (2, 2), (3, 2), (1, 3), (2, 3), (3, 3)]\n"
     ]
    }
   ],
   "source": [
    "inputlist=[1,2,3]\n",
    "res=[(j,i)for i in inputlist for j in inputlist]\n",
    "print(res)"
   ]
  },
  {
   "cell_type": "markdown",
   "metadata": {},
   "source": [
    "3.Implement a function longestWord() that takes a list of words and returns the longest one.\n"
   ]
  },
  {
   "cell_type": "code",
   "execution_count": 43,
   "metadata": {},
   "outputs": [
    {
     "name": "stdout",
     "output_type": "stream",
     "text": [
      "mathematics\n"
     ]
    }
   ],
   "source": [
    "inputlist=[\"yo\",\"sevpuri\",\"potatochips\",\"television\",\"permutation\",\"mathematics\",\"chickenfry\"]\n",
    "res=reduce(lambda x,y: x if (len(x)>len(y)) else y,inputlist)\n",
    "print(res)"
   ]
  },
  {
   "cell_type": "markdown",
   "metadata": {},
   "source": [
    "Task 2:"
   ]
  },
  {
   "cell_type": "markdown",
   "metadata": {},
   "source": [
    "1.1 Write a Python Program(with class concepts) to find the area of the triangle using the below\n",
    "formula.\n",
    "area = (s*(s-a)*(s-b)*(s-c)) ** 0.5\n",
    "Function to take the length of the sides of triangle from user should be defined in the parent\n",
    "class and function to calculate the area should be defined in subclass."
   ]
  },
  {
   "cell_type": "code",
   "execution_count": 54,
   "metadata": {},
   "outputs": [
    {
     "name": "stdout",
     "output_type": "stream",
     "text": [
      "Enter lengths a,b,c:5 6 7\n",
      "works\n",
      "108.0\n"
     ]
    }
   ],
   "source": [
    "class Triangle_Input:\n",
    "  def take_length_from_user(self):\n",
    "    a,b,c=input(\"Enter lengths a,b,c:\").split(\" \")\n",
    "    self.a=int(a)\n",
    "    self.b=int(b)\n",
    "    self.c=int(c)\n",
    "    \n",
    "    \n",
    "\n",
    "class Triangle_Calculate(Triangle_Input):\n",
    "  def calculate_area(self):\n",
    "    print(\"works\")\n",
    "    self.s=(self.a+self.b+self.c)/2\n",
    "    area= (self.s*(self.s-self.a)*(self.s-self.b)*(self.s-self.c)) * 0.5\n",
    "    print(area)\n",
    "\n",
    "\n",
    "\n",
    "t= Triangle_Calculate()\n",
    "t.take_length_from_user()\n",
    "t.calculate_area()"
   ]
  },
  {
   "cell_type": "markdown",
   "metadata": {},
   "source": [
    "1.2 Write a function filter_long_words() that takes a list of words and an integer n and returns the list\n",
    "of words that are longer than n.\n"
   ]
  },
  {
   "cell_type": "code",
   "execution_count": 1,
   "metadata": {},
   "outputs": [
    {
     "name": "stdout",
     "output_type": "stream",
     "text": [
      "Enter space seprated input words:chickenfry chickennuggets prawnsfry prawnscurry onionbhaji\n",
      "Enter n:8\n",
      "['chickenfry', 'chickennuggets', 'prawnsfry', 'prawnscurry', 'onionbhaji']\n"
     ]
    }
   ],
   "source": [
    "inputlist1=[\"yo\",\"sevpuri\",\"potatochips\",\"television\",\"permutation\",\"mathematics\",\"chickenfry\"]\n",
    "inputlist=input(\"Enter space seprated input words:\").split(\" \")\n",
    "n=int(input(\"Enter n:\"))\n",
    "res=[i for i in inputlist if (len(i)>n)]\n",
    "print(str(res))"
   ]
  },
  {
   "cell_type": "markdown",
   "metadata": {},
   "source": [
    "2.1 Write a Python program using function concept that maps list of words into a list of integers\n",
    "representing the lengths of the corresponding words.\n",
    "Hint: If a list [ ab,cde,erty] is passed on to the python function output should come as [2,3,4]\n",
    "Here 2,3 and 4 are the lengths of the words in the list."
   ]
  },
  {
   "cell_type": "code",
   "execution_count": 10,
   "metadata": {},
   "outputs": [
    {
     "name": "stdout",
     "output_type": "stream",
     "text": [
      "[2, 3, 4]\n"
     ]
    }
   ],
   "source": [
    "class MapWords:\n",
    "    def map_words_to_len(self,list1):\n",
    "       res=[len(i) for i in list1]\n",
    "       return res\n",
    "\n",
    "\n",
    "inputlist=[\"ab\",\"cde\",\"erty\"]\n",
    "m=MapWords()\n",
    "\n",
    "resl=m.map_words_to_len(inputlist)\n",
    "print(resl)"
   ]
  },
  {
   "cell_type": "markdown",
   "metadata": {},
   "source": [
    "2.2 Write a Python function which takes a character (i.e. a string of length 1) and returns True if it is\n",
    "a vowel, False otherwise.\n"
   ]
  },
  {
   "cell_type": "code",
   "execution_count": 12,
   "metadata": {},
   "outputs": [
    {
     "name": "stdout",
     "output_type": "stream",
     "text": [
      "True\n"
     ]
    }
   ],
   "source": [
    "def vowel_check(char):\n",
    "    return char.lower() in 'aeiou'\n",
    "\n",
    "a=\"e\"\n",
    "print(vowel_check(a))"
   ]
  },
  {
   "cell_type": "code",
   "execution_count": null,
   "metadata": {},
   "outputs": [],
   "source": []
  }
 ],
 "metadata": {
  "kernelspec": {
   "display_name": "Python 3",
   "language": "python",
   "name": "python3"
  },
  "language_info": {
   "codemirror_mode": {
    "name": "ipython",
    "version": 3
   },
   "file_extension": ".py",
   "mimetype": "text/x-python",
   "name": "python",
   "nbconvert_exporter": "python",
   "pygments_lexer": "ipython3",
   "version": "3.7.7"
  }
 },
 "nbformat": 4,
 "nbformat_minor": 4
}
